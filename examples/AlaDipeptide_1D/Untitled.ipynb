{
 "cells": [
  {
   "cell_type": "code",
   "execution_count": 2,
   "metadata": {
    "collapsed": true
   },
   "outputs": [],
   "source": [
    "import numpy as np    \n",
    "from emus import usutils as uu\n",
    "from emus import emus, avar\n",
    "import matplotlib.pyplot as plt \n"
   ]
  },
  {
   "cell_type": "code",
   "execution_count": 3,
   "metadata": {
    "collapsed": false
   },
   "outputs": [],
   "source": [
    "# Define Simulation Parameters\n",
    "T = 310                             # Temperature in Kelvin\n",
    "k_B = 1.9872041E-3                  # Boltzmann factor in kcal/mol\n",
    "kT = k_B * T \n",
    "meta_file = 'wham_meta.txt'         # Path to Meta File\n",
    "dim = 1                             # 1 Dimensional CV space.\n",
    "period = 360                        # Dihedral Angles periodicity\n",
    "nbins = 60                          # Number of Histogram Bins.\n",
    "\n",
    "# Load data\n",
    "psis, cv_trajs, neighbors = uu.data_from_WHAMmeta('wham_meta.txt',dim,T=T,k_B=k_B,period=period)\n",
    "z, F = emus.calculate_zs(psis,neighbors=neighbors,) \n"
   ]
  },
  {
   "cell_type": "code",
   "execution_count": null,
   "metadata": {
    "collapsed": true
   },
   "outputs": [],
   "source": []
  }
 ],
 "metadata": {
  "kernelspec": {
   "display_name": "Python 2",
   "language": "python",
   "name": "python2"
  },
  "language_info": {
   "codemirror_mode": {
    "name": "ipython",
    "version": 2
   },
   "file_extension": ".py",
   "mimetype": "text/x-python",
   "name": "python",
   "nbconvert_exporter": "python",
   "pygments_lexer": "ipython2",
   "version": "2.7.13"
  }
 },
 "nbformat": 4,
 "nbformat_minor": 0
}
